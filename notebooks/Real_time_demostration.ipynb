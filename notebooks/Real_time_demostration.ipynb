{
  "cells": [
    {
      "cell_type": "code",
      "execution_count": null,
      "metadata": {
        "id": "72ZdTtFVe8Yq"
      },
      "outputs": [],
      "source": [
        "!pip install tensorflow==2.3.1\n",
        "!pip install keras==2.4.3"
      ]
    },
    {
      "cell_type": "code",
      "execution_count": null,
      "metadata": {
        "id": "Hs6L7qAXWa49"
      },
      "outputs": [],
      "source": [
        "from google.colab import drive\n",
        "drive.mount('/content/drive')"
      ]
    },
    {
      "cell_type": "code",
      "execution_count": null,
      "metadata": {
        "id": "YygiMuVN5q5e"
      },
      "outputs": [],
      "source": [
        "! pip install IPython"
      ]
    },
    {
      "cell_type": "code",
      "execution_count": null,
      "metadata": {
        "id": "aLybrl1Cb4VE"
      },
      "outputs": [],
      "source": [
        "! pip install imutils"
      ]
    },
    {
      "cell_type": "code",
      "execution_count": null,
      "metadata": {
        "id": "A578sDm_-BJ9"
      },
      "outputs": [],
      "source": [
        "# import dependencies\n",
        "import IPython\n",
        "import cv2\n",
        "import numpy as np\n",
        "import PIL\n",
        "import io\n",
        "import html\n",
        "import time\n",
        "import matplotlib.pyplot as plt\n",
        "%matplotlib inline\n",
        "import dlib\n",
        "import numpy as np\n",
        "import imutils"
      ]
    },
    {
      "cell_type": "code",
      "execution_count": null,
      "metadata": {
        "id": "-B2PuZczcwfj"
      },
      "outputs": [],
      "source": [
        "from IPython.display import display, Javascript, Image,Audio\n",
        "from google.colab import output\n",
        "from google.colab.output import eval_js\n",
        "from google.colab.patches import cv2_imshow\n",
        "from base64 import b64decode, b64encode\n",
        "from imutils.face_utils.helpers import FACIAL_LANDMARKS_68_IDXS\n",
        "from imutils.face_utils.helpers import FACIAL_LANDMARKS_5_IDXS\n",
        "from imutils.face_utils.helpers import shape_to_np\n",
        "from imutils import face_utils\n",
        "from imutils.face_utils import *\n",
        "from scipy.spatial import distance as dist\n",
        "from tensorflow.keras.models import Sequential, load_model\n",
        "from tensorflow.keras.layers import Dense, Convolution2D, MaxPooling2D, Flatten\n",
        "from tensorflow.keras.preprocessing.image import ImageDataGenerator \n",
        "from tensorflow.keras.preprocessing import image\n",
        "from dlib import *\n"
      ]
    },
    {
      "cell_type": "code",
      "execution_count": null,
      "metadata": {
        "id": "BYISSghwPMPM"
      },
      "outputs": [],
      "source": [
        "# Play an audio beep. Any audio URL will do.\n",
        "alert='new Audio(\"https://upload.wikimedia.org/wikipedia/commons/0/05/Beep-09.ogg\").play()'\n",
        "bienvenue='new Audio(\"https://upload.wikimedia.org/wikipedia/commons/1/1a/Bienvenue-chez-votre-applicati1651880044.ogg\").play()'\n",
        "pause='new Audio(\"https://upload.wikimedia.org/wikipedia/commons/7/7e/Penser-a-prendre-une-petite-pa1651880436.ogg\").play()'\n",
        "reveil='new Audio(\"https://upload.wikimedia.org/wikipedia/commons/2/23/R%C3%A9veillez-vousr%C3%A9veillez-vous-1651880280_%281%29.ogg\").play()'\n"
      ]
    },
    {
      "cell_type": "code",
      "execution_count": null,
      "metadata": {
        "colab": {
          "base_uri": "https://localhost:8080/",
          "height": 34
        },
        "id": "P6D2sewVT-JG",
        "outputId": "cffc0bb6-b225-4489-ca88-b11c904b10d1"
      },
      "outputs": [
        {
          "output_type": "display_data",
          "data": {
            "text/plain": [
              "<Figure size 360x360 with 0 Axes>"
            ]
          },
          "metadata": {}
        }
      ],
      "source": [
        "model=load_model(\"/content/drive/MyDrive/new_pfe/Driver_Drowsiness_Detection_new.h5\")\n",
        "figure = plt.figure(figsize=(5, 5))\n",
        "face_cascade = cv2.CascadeClassifier('/content/drive/MyDrive/pfe_somnolance/haarcascade_frontalface_default.xml')\n",
        "eye_cascade = cv2.CascadeClassifier('/content/drive/MyDrive/pfe_somnolance/haarcascade_eye.xml')\n",
        "detector = dlib.get_frontal_face_detector()\n",
        "predictor = dlib.shape_predictor('/content/drive/MyDrive/pfe_somnolance/shape_predictor_68_face_landmarks.dat')\n",
        "fa = FaceAligner(predictor, desiredFaceWidth=256)"
      ]
    },
    {
      "cell_type": "code",
      "execution_count": null,
      "metadata": {
        "id": "qGNMfO4-ZlS-"
      },
      "outputs": [],
      "source": [
        "def calculate_lip(lips):\n",
        "     dist1 = dist.euclidean(lips[2], lips[6]) \n",
        "     dist2 = dist.euclidean(lips[0], lips[4]) \n",
        "\n",
        "     LAR = float(dist1/dist2)\n",
        "\n",
        "     return LAR\n"
      ]
    },
    {
      "cell_type": "code",
      "execution_count": null,
      "metadata": {
        "id": "T4p6wbjfMyac"
      },
      "outputs": [],
      "source": [
        "# function to convert the JavaScript object into an OpenCV image\n",
        "def js_to_image(js_reply):\n",
        "  \"\"\"\n",
        "  Params:\n",
        "          js_reply: JavaScript object containing image from webcam\n",
        "  Returns:\n",
        "          img: OpenCV BGR image\n",
        "  \"\"\"\n",
        "  # decode base64 image\n",
        "  image_bytes = b64decode(js_reply.split(',')[1])\n",
        "  # convert bytes to numpy array\n",
        "  jpg_as_np = np.frombuffer(image_bytes, dtype=np.uint8)\n",
        "  # decode numpy array into OpenCV BGR image\n",
        "  img = cv2.imdecode(jpg_as_np, flags=1)\n",
        "\n",
        "  return img\n",
        "\n",
        "# function to convert OpenCV Rectangle bounding box image into base64 byte string to be overlayed on video stream\n",
        "def bbox_to_bytes(bbox_array):\n",
        "  \"\"\"\n",
        "  Params:\n",
        "          bbox_array: Numpy array (pixels) containing rectangle to overlay on video stream.\n",
        "  Returns:\n",
        "        bytes: Base64 image byte string\n",
        "  \"\"\"\n",
        "  # convert array into PIL image\n",
        "  bbox_PIL = PIL.Image.fromarray(bbox_array, 'RGBA')\n",
        "  iobuf = io.BytesIO()\n",
        "  # format bbox into png for return\n",
        "  bbox_PIL.save(iobuf, format='png')\n",
        "  # format return string\n",
        "  bbox_bytes = 'data:image/png;base64,{}'.format((str(b64encode(iobuf.getvalue()), 'utf-8')))\n",
        "\n",
        "  return bbox_bytes"
      ]
    },
    {
      "cell_type": "code",
      "execution_count": null,
      "metadata": {
        "id": "boTLdO3fspfX"
      },
      "outputs": [],
      "source": [
        "# JavaScript to properly create our live video stream using our webcam as input\n",
        "def video_stream():\n",
        "  js = Javascript('''\n",
        "    var video;\n",
        "    var div = null;\n",
        "    var stream;\n",
        "    var captureCanvas;\n",
        "    var imgElement;\n",
        "    var labelElement;\n",
        "    \n",
        "    var pendingResolve = null;\n",
        "    var shutdown = false;\n",
        "    \n",
        "    function removeDom() {\n",
        "       stream.getVideoTracks()[0].stop();\n",
        "       video.remove();\n",
        "       div.remove();\n",
        "       video = null;\n",
        "       div = null;\n",
        "       stream = null;\n",
        "       imgElement = null;\n",
        "       captureCanvas = null;\n",
        "       labelElement = null;\n",
        "    }\n",
        "    \n",
        "    function onAnimationFrame() {\n",
        "      if (!shutdown) {\n",
        "        window.requestAnimationFrame(onAnimationFrame);\n",
        "      }\n",
        "      if (pendingResolve) {\n",
        "        var result = \"\";\n",
        "        if (!shutdown) {\n",
        "          captureCanvas.getContext('2d').drawImage(video, 0, 0, 640, 480);\n",
        "          result = captureCanvas.toDataURL('image/jpeg', 0.8)\n",
        "        }\n",
        "        var lp = pendingResolve;\n",
        "        pendingResolve = null;\n",
        "        lp(result);\n",
        "        }\n",
        "    }\n",
        "    \n",
        "    async function createDom() {\n",
        "      if (div !== null) {\n",
        "        return stream;\n",
        "      }\n",
        "\n",
        "      div = document.createElement('div');\n",
        "      div.style.border = '2px solid black';\n",
        "      div.style.padding = '3px';\n",
        "      div.style.width = '100%';\n",
        "      div.style.maxWidth = '600px';\n",
        "      document.body.appendChild(div);\n",
        "      \n",
        "      const modelOut = document.createElement('div');\n",
        "      modelOut.innerHTML = \"<span>Status:</span>\";\n",
        "      labelElement = document.createElement('span');\n",
        "      labelElement.innerText = 'No data';\n",
        "      labelElement.style.fontWeight = 'bold';\n",
        "      modelOut.appendChild(labelElement);\n",
        "      div.appendChild(modelOut);\n",
        "           \n",
        "      video = document.createElement('video');\n",
        "      video.style.display = 'block';\n",
        "      video.width = div.clientWidth - 6;\n",
        "      video.setAttribute('playsinline', '');\n",
        "      video.onclick = () => { shutdown = true; };\n",
        "      stream = await navigator.mediaDevices.getUserMedia(\n",
        "          {video: { facingMode: \"environment\"}});\n",
        "      div.appendChild(video);\n",
        "\n",
        "      imgElement = document.createElement('img');\n",
        "      imgElement.style.position = 'absolute';\n",
        "      imgElement.style.zIndex = 1;\n",
        "      imgElement.onclick = () => { shutdown = true; };\n",
        "      div.appendChild(imgElement);\n",
        "      \n",
        "      const instruction = document.createElement('div');\n",
        "      instruction.innerHTML = \n",
        "          '<span style=\"color: red; font-weight: bold;\">' +\n",
        "          'When finished, click here or on the video to stop this demo</span>';\n",
        "      div.appendChild(instruction);\n",
        "      instruction.onclick = () => { shutdown = true; };\n",
        "      \n",
        "      video.srcObject = stream;\n",
        "      await video.play();\n",
        "\n",
        "      captureCanvas = document.createElement('canvas');\n",
        "      captureCanvas.width = 640; //video.videoWidth;\n",
        "      captureCanvas.height = 480; //video.videoHeight;\n",
        "      window.requestAnimationFrame(onAnimationFrame);\n",
        "      \n",
        "      return stream;\n",
        "    }\n",
        "    async function stream_frame(label, imgData) {\n",
        "      if (shutdown) {\n",
        "        removeDom();\n",
        "        shutdown = false;\n",
        "        return '';\n",
        "      }\n",
        "\n",
        "      var preCreate = Date.now();\n",
        "      stream = await createDom();\n",
        "      \n",
        "      var preShow = Date.now();\n",
        "      if (label != \"\") {\n",
        "        labelElement.innerHTML = label;\n",
        "      }\n",
        "            \n",
        "      if (imgData != \"\") {\n",
        "        var videoRect = video.getClientRects()[0];\n",
        "        imgElement.style.top = videoRect.top + \"px\";\n",
        "        imgElement.style.left = videoRect.left + \"px\";\n",
        "        imgElement.style.width = videoRect.width + \"px\";\n",
        "        imgElement.style.height = videoRect.height + \"px\";\n",
        "        imgElement.src = imgData;\n",
        "      }\n",
        "      \n",
        "      var preCapture = Date.now();\n",
        "      var result = await new Promise(function(resolve, reject) {\n",
        "        pendingResolve = resolve;\n",
        "      });\n",
        "      shutdown = false;\n",
        "      \n",
        "      return {'create': preShow - preCreate, \n",
        "              'show': preCapture - preShow, \n",
        "              'capture': Date.now() - preCapture,\n",
        "              'img': result};\n",
        "    }\n",
        "    ''')\n",
        "\n",
        "  display(js)\n",
        "  \n",
        "def video_frame(label, bbox):\n",
        "  data = eval_js('stream_frame(\"{}\", \"{}\")'.format(label, bbox))\n",
        "  return data"
      ]
    },
    {
      "cell_type": "code",
      "execution_count": null,
      "metadata": {
        "id": "hpR9n_b5jybd"
      },
      "outputs": [],
      "source": [
        " # start streaming video from webcam\n",
        "video_stream()\n",
        "output.eval_js(bienvenue)\n",
        "# label for video\n",
        "label_html = 'Capturing...'\n",
        "# initialze bounding box to empty\n",
        "counter = 0\n",
        "lip_LAR = 0.4\n",
        "lip_per_frame = 1\n",
        "bbox = ''\n",
        "count = 0 \n",
        "while True:\n",
        "    js_reply = video_frame(label_html, bbox)\n",
        "    if not js_reply:\n",
        "        break\n",
        "\n",
        "    # convert JS response to OpenCV Image\n",
        "    img = js_to_image(js_reply[\"img\"])\n",
        "\n",
        "    # create transparent overlay for bounding box\n",
        "    bbox_array = np.zeros([480,640,4], dtype=np.uint8)\n",
        "    gray = cv2.cvtColor(img, cv2.COLOR_BGR2GRAY)\n",
        "    rects = detector(gray, 2)\n",
        "    faces = detector(gray)\n",
        "    for rect in rects:\n",
        "        (x, y, w, h) = rect_to_bb(rect)\n",
        "        faceAligned = fa.align(img, gray, rect)\n",
        "        faceAligned_gray = cv2.cvtColor(faceAligned, cv2.COLOR_BGR2GRAY)\n",
        "        plt.imshow(faceAligned_gray)\n",
        "        plt.axis('off')\n",
        "        plt.title('Aligned Face')\n",
        "        eyes = eye_cascade.detectMultiScale(faceAligned_gray, 1.1, 4)\n",
        "        predictions = []\n",
        "        predictions_y = []\n",
        "    for(ex, ey, ew, eh) in eyes:\n",
        "          eye = faceAligned[ey:ey+eh, ex:ex+ew]\n",
        "          eye = cv2.resize(eye, (32, 32))\n",
        "          eye = np.array(eye)\n",
        "          eye = np.expand_dims(eye, axis=0)\n",
        "          ypred = model.predict(eye)\n",
        "          ypred = np.argmax(ypred[0], axis=0)\n",
        "          predictions.append(ypred)\n",
        "          if all(i==0 for i in predictions):\n",
        "                   bbox_array=cv2.rectangle(bbox_array, (x, y), (x+w, y+h), (255, 0, 0), 8)\n",
        "                   bbox_array=cv2.putText(bbox_array, 'Sleeping', (x, y-10), cv2.FONT_HERSHEY_SIMPLEX, 1.5, (255, 0, 0), 3)\n",
        "                   output.eval_js(alert)\n",
        "                   output.eval_js(reveil)\n",
        "          else:\n",
        "                   bbox_array=cv2.rectangle(bbox_array, (x, y), (x+w, y+h), (0, 255, 0), 8)\n",
        "                   bbox_array=cv2.putText(bbox_array, 'Not Sleeping', (x, y-10), cv2.FONT_HERSHEY_SIMPLEX, 1.5, (0, 255, 0), 3)\n",
        "          break\n",
        "        \n",
        "    for (i, face) in enumerate(faces):\n",
        "        lips = [60,61,62,63,64,65,66,67]\n",
        "        point = predictor(gray, face)\n",
        "        points = face_utils.shape_to_np(point)\n",
        "        lip_point = points[lips]\n",
        "        LAR = calculate_lip(lip_point) \n",
        "\n",
        "        lip_hull = cv2.convexHull(lip_point)\n",
        "        cv2.drawContours(bbox_array, [lip_hull], -1, (0, 255, 0), 1)\n",
        "\n",
        "        if LAR > lip_LAR:\n",
        "            counter += 1\n",
        "            if counter > lip_per_frame:\n",
        "                cv2.putText(bbox_array, \"YAWNING ALERT!\", (10, 30), cv2.FONT_HERSHEY_SIMPLEX, 0.7, (255, 0, 0), 2)\n",
        "                output.eval_js(pause)\n",
        "        else:\n",
        "            counter = 0\n",
        "\n",
        "    cv2.putText(bbox_array, \"LAR: {:.2f}\".format(LAR), (300, 30),\n",
        "\t  cv2.FONT_HERSHEY_SIMPLEX, 0.7, (0, 0, 255), 2) \n",
        "\n",
        "    bbox_array[:,:,3] = (bbox_array.max(axis = 2) > 0 ).astype(int) * 255 \n",
        "    bbox_array[:,:,3] = (bbox_array.max(axis = 2) > 0 ).astype(int) * 255\n",
        "    \n",
        "    # convert overlay of bbox into bytes\n",
        "    bbox_bytes = bbox_to_bytes(bbox_array)\n",
        "   \n",
        "    # update bbox so next frame gets new overlay\n",
        "    bbox = bbox_bytes"
      ]
    }
  ],
  "metadata": {
    "colab": {
      "collapsed_sections": [],
      "name": "Real_time_demostration.ipynb",
      "provenance": []
    },
    "kernelspec": {
      "display_name": "Python 3",
      "name": "python3"
    },
    "language_info": {
      "name": "python"
    }
  },
  "nbformat": 4,
  "nbformat_minor": 0
}